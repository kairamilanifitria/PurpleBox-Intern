{
  "nbformat": 4,
  "nbformat_minor": 0,
  "metadata": {
    "colab": {
      "provenance": [],
      "authorship_tag": "ABX9TyM1LiunWk6LfqJ7GsOcxOhN",
      "include_colab_link": true
    },
    "kernelspec": {
      "name": "python3",
      "display_name": "Python 3"
    },
    "language_info": {
      "name": "python"
    }
  },
  "cells": [
    {
      "cell_type": "markdown",
      "metadata": {
        "id": "view-in-github",
        "colab_type": "text"
      },
      "source": [
        "<a href=\"https://colab.research.google.com/github/kairamilanifitria/PurpleBox-Intern/blob/main/03_06_Retrieval_LLM_Trial.ipynb\" target=\"_parent\"><img src=\"https://colab.research.google.com/assets/colab-badge.svg\" alt=\"Open In Colab\"/></a>"
      ]
    },
    {
      "cell_type": "markdown",
      "source": [
        "# trial : separate data tables"
      ],
      "metadata": {
        "id": "JlqghwpZjcvQ"
      }
    },
    {
      "cell_type": "code",
      "source": [
        "!pip install supabase numpy psycopg2"
      ],
      "metadata": {
        "id": "ZniavIVnjgIQ"
      },
      "execution_count": null,
      "outputs": []
    },
    {
      "cell_type": "code",
      "source": [
        "import os\n",
        "import json\n",
        "import numpy as np\n",
        "from supabase import create_client, Client\n",
        "\n",
        "# Initialize Supabase\n",
        "SUPABASE_URL = \"\"\n",
        "SUPABASE_KEY = \"\"\n",
        "\n",
        "supabase: Client = create_client(SUPABASE_URL, SUPABASE_KEY)\n"
      ],
      "metadata": {
        "id": "VcgLlrpejht3"
      },
      "execution_count": null,
      "outputs": []
    },
    {
      "cell_type": "code",
      "source": [
        "import json\n",
        "import torch\n",
        "import uuid  # Import the missing module\n",
        "from transformers import AutoTokenizer, AutoModel\n",
        "from supabase import create_client\n",
        "\n",
        "# Load Embedding Model\n",
        "tokenizer = AutoTokenizer.from_pretrained(\"Alibaba-NLP/gte-multilingual-base\")\n",
        "model = AutoModel.from_pretrained(\"Alibaba-NLP/gte-multilingual-base\").to(torch.device(\"cuda\" if torch.cuda.is_available() else \"cpu\"))\n",
        "\n",
        "def get_embedding(text):\n",
        "    inputs = tokenizer(text, return_tensors=\"pt\", padding=True, truncation=True, max_length=512).to(model.device)\n",
        "    with torch.no_grad():\n",
        "        outputs = model(**inputs)\n",
        "\n",
        "    return outputs.last_hidden_state.mean(dim=1).squeeze().cpu().tolist()\n",
        "\n",
        "# Load JSON chunks\n",
        "json_file_path = \"/content/17.json\"\n",
        "with open(json_file_path, \"r\", encoding=\"utf-8\") as json_file:\n",
        "    json_chunks = json.load(json_file)\n",
        "\n",
        "def store_chunks_in_supabase(chunks):\n",
        "    \"\"\"Stores chunks into Supabase, differentiating between text and tables.\"\"\"\n",
        "    document_entries = []\n",
        "    table_entries = []\n",
        "\n",
        "    for chunk in chunks:\n",
        "        chunk_id = str(uuid.uuid4())  # Generate unique chunk_id\n",
        "\n",
        "        if \"content\" in chunk and chunk[\"content\"]:\n",
        "            content = chunk[\"content\"]\n",
        "            embedding = get_embedding(content)\n",
        "\n",
        "            document_entries.append({\n",
        "                \"chunk_id\": chunk_id,\n",
        "                \"content\": content,\n",
        "                \"embedding\": embedding,\n",
        "                \"metadata\": chunk[\"metadata\"],\n",
        "                \"type\": \"text\"\n",
        "            })\n",
        "\n",
        "        if \"table\" in chunk and chunk[\"table\"]:\n",
        "            table_data = chunk[\"table\"]\n",
        "            table_entries.append({\n",
        "                \"chunk_id\": chunk_id,\n",
        "                \"table_data\": json.dumps(table_data, ensure_ascii=False),\n",
        "                \"metadata\": chunk[\"metadata\"]\n",
        "            })\n",
        "\n",
        "    # Batch insert into Supabase for efficiency\n",
        "    if document_entries:\n",
        "        supabase.table(\"documents\").insert(document_entries).execute()\n",
        "    if table_entries:\n",
        "        supabase.table(\"tables\").insert(table_entries).execute()\n",
        "\n",
        "# Store chunks in Supabase\n",
        "store_chunks_in_supabase(json_chunks)\n",
        "\n",
        "print(\"Chunks with embeddings stored successfully in Supabase!\")"
      ],
      "metadata": {
        "colab": {
          "base_uri": "https://localhost:8080/",
          "height": 573,
          "referenced_widgets": [
            "b1cfd0fde6934f469818c7520997fc6f",
            "589c59a018524f7cba6fe31bd3131ce5",
            "74c9f44eb6544c0387dcb6b15e49d0d2",
            "fab5593af83a42bdb569c721caa5aefa",
            "92237a37ee344d80b668a036d256a49c",
            "692a483595e84efc849838d88dd96d56",
            "9234092a11e74bffb2e9724e036d2ec2",
            "3cb3212ac7444cbebbdb0c31e09ada0f",
            "9212487675b0465e888168e65c166ac8",
            "0ae7da14eb774d349d86da2390ec0983",
            "00b0a007f12a457bacc5a32f3b717793",
            "fab0a6a664fa4c97b270739a80241512",
            "0b9a8404daf94700abcf725697fcc0d3",
            "ca400923033b4b62952c684ea39ef17a",
            "88166cf1ce4a479abb27829501b2357b",
            "823d88c37e7e4f2c99c9e026fa707049",
            "8c1a629a628b43e5bef63b56f01aa5bd",
            "5dadd58898ef4c749443fa43ad2f1563",
            "cf311b280e414b51b1f3d99e834829a5",
            "215d6aea05f24ff1b1f735daa829bd41",
            "da53e4edaa35498ab6d96297d956aac7",
            "b73b80b3647f48058b553771be872c68",
            "1e24e691fd814097bacd808fe71a3fae",
            "e4689f84b9b9418391eb1355721bddf2",
            "81d6ba25eb2c444ca160e42fb66934b9",
            "8465e0e67d764da280e40027b4cd974f",
            "c35e0a7abe1a400aa0391547f40e81c2",
            "5bd655784c94405d98bcd1d265e2a861",
            "8cc0d8e871684369954dd7cbc185c60e",
            "6c9efacd670b4d0fae4cb5d2ce78b6b3",
            "9ca860d340e744ea874bb1809d1b7ed7",
            "1f46d47fd78040cba17ac58ae596d999",
            "bbd99e6de7f14895b5f81e6f06065282",
            "4a9a271ac1c74624a11c1efc47446d25",
            "3de264cad7ad48b4976fd05048a20059",
            "67c3d75ed2114e0ba00ef4e334b86b92",
            "eac8765040584bd78ce35ba401b86b96",
            "183147a3c7c9497881399a631b6947f9",
            "d7ea73eb428e45bf9039297e413aa8d7",
            "59b270d01c964ee19cc0b4b7d4c1e4b3",
            "4dccee78b98f49298c7d758d147db55f",
            "6faa5d90c37e495a80791ffb4701b447",
            "5d926bcaefa342c5a1f7c0239070cc45",
            "2f704098d3b34b06adab6b0d5dc416ee",
            "42a2cb83236f459a8980cf480ae36709",
            "9ba1dda31f6b499c81e4aaf9824c7a2d",
            "9ddeda4386b04e339faa73e732a7852d",
            "b9708e0ab10b443fbfae613e14266715",
            "fa64d30b4b5846a6a69e811102050cc9",
            "604f0abe0602491a8252117fef8cacfe",
            "bba76b8230004a2eb2c937317c0899cd",
            "fb814346eaa7447f81308c080c681d76",
            "eb9c4abee7774c6e8fe59106b6fb3a1a",
            "4ad6120dbc5e414d935341e602797b89",
            "75e90d9a017b490e98e5bc5e1a3d30f0",
            "5a208f3d03ed45c78983e84382aa52a7",
            "adc99f551b044166a618f6d05a16f361",
            "aa8c67a2c90342f8a0454f06d3923f4f",
            "4c8edfeddccf45289a76cde47b417d8d",
            "b61bd176be2f43988fcd408af5b1a5a1",
            "75e11b3979d54e0c8d2cc22f4f773d84",
            "74f32e20caef4634add4e6b88efc2b39",
            "c99af65696794e41af6d753d8c18f2c8",
            "80e152424807431fbf130dcb20ffc7c8",
            "bf5f33b22b494a468148c213e014f8a2",
            "c8141368342f4f92bdd706ff5c8ea2ff",
            "8ec21ac60f3f4dd7b5a55abe51308929",
            "e05f93261cdf415f9f6dbb9f51073fe1",
            "bbe6e381f72948c59b1956058b72e2f8",
            "c8c60198c1694bd489ae8802c40c641d",
            "84d9d308a1d142c5ad091a8b03c361c9",
            "4e328b530c304c80825acadd50343ec9",
            "293c5dbc51ec434eb28dd3dab78a9792",
            "b16b31f1d1974a908fc26150f155657d",
            "06528328f6f94b559066f9575b69e0e7",
            "8d7484539607419d925b85bd6062419f",
            "ece4123e630e4e4bb883dd578a9dac15"
          ]
        },
        "id": "SmZ34Sxjj8GQ",
        "outputId": "e258c67c-fbbc-45fb-fe2c-7ef59fa59530"
      },
      "execution_count": null,
      "outputs": [
        {
          "output_type": "display_data",
          "data": {
            "text/plain": [
              "tokenizer_config.json:   0%|          | 0.00/1.15k [00:00<?, ?B/s]"
            ],
            "application/vnd.jupyter.widget-view+json": {
              "version_major": 2,
              "version_minor": 0,
              "model_id": "b1cfd0fde6934f469818c7520997fc6f"
            }
          },
          "metadata": {}
        },
        {
          "output_type": "display_data",
          "data": {
            "text/plain": [
              "tokenizer.json:   0%|          | 0.00/17.1M [00:00<?, ?B/s]"
            ],
            "application/vnd.jupyter.widget-view+json": {
              "version_major": 2,
              "version_minor": 0,
              "model_id": "fab0a6a664fa4c97b270739a80241512"
            }
          },
          "metadata": {}
        },
        {
          "output_type": "display_data",
          "data": {
            "text/plain": [
              "special_tokens_map.json:   0%|          | 0.00/964 [00:00<?, ?B/s]"
            ],
            "application/vnd.jupyter.widget-view+json": {
              "version_major": 2,
              "version_minor": 0,
              "model_id": "1e24e691fd814097bacd808fe71a3fae"
            }
          },
          "metadata": {}
        },
        {
          "output_type": "display_data",
          "data": {
            "text/plain": [
              "config.json:   0%|          | 0.00/1.43k [00:00<?, ?B/s]"
            ],
            "application/vnd.jupyter.widget-view+json": {
              "version_major": 2,
              "version_minor": 0,
              "model_id": "4a9a271ac1c74624a11c1efc47446d25"
            }
          },
          "metadata": {}
        },
        {
          "name": "stdout",
          "output_type": "stream",
          "text": [
            "The repository for Alibaba-NLP/gte-multilingual-base contains custom code which must be executed to correctly load the model. You can inspect the repository content at https://hf.co/Alibaba-NLP/gte-multilingual-base.\n",
            "You can avoid this prompt in future by passing the argument `trust_remote_code=True`.\n",
            "\n",
            "Do you wish to run the custom code? [y/N] y\n"
          ]
        },
        {
          "output_type": "display_data",
          "data": {
            "text/plain": [
              "configuration.py:   0%|          | 0.00/7.13k [00:00<?, ?B/s]"
            ],
            "application/vnd.jupyter.widget-view+json": {
              "version_major": 2,
              "version_minor": 0,
              "model_id": "42a2cb83236f459a8980cf480ae36709"
            }
          },
          "metadata": {}
        },
        {
          "output_type": "stream",
          "name": "stderr",
          "text": [
            "A new version of the following files was downloaded from https://huggingface.co/Alibaba-NLP/new-impl:\n",
            "- configuration.py\n",
            ". Make sure to double-check they do not contain any added malicious code. To avoid downloading new versions of the code file, you can pin a revision.\n"
          ]
        },
        {
          "name": "stdout",
          "output_type": "stream",
          "text": [
            "The repository for Alibaba-NLP/gte-multilingual-base contains custom code which must be executed to correctly load the model. You can inspect the repository content at https://hf.co/Alibaba-NLP/gte-multilingual-base.\n",
            "You can avoid this prompt in future by passing the argument `trust_remote_code=True`.\n",
            "\n",
            "Do you wish to run the custom code? [y/N] y\n"
          ]
        },
        {
          "output_type": "display_data",
          "data": {
            "text/plain": [
              "modeling.py:   0%|          | 0.00/59.0k [00:00<?, ?B/s]"
            ],
            "application/vnd.jupyter.widget-view+json": {
              "version_major": 2,
              "version_minor": 0,
              "model_id": "5a208f3d03ed45c78983e84382aa52a7"
            }
          },
          "metadata": {}
        },
        {
          "output_type": "stream",
          "name": "stderr",
          "text": [
            "A new version of the following files was downloaded from https://huggingface.co/Alibaba-NLP/new-impl:\n",
            "- modeling.py\n",
            ". Make sure to double-check they do not contain any added malicious code. To avoid downloading new versions of the code file, you can pin a revision.\n"
          ]
        },
        {
          "output_type": "display_data",
          "data": {
            "text/plain": [
              "model.safetensors:   0%|          | 0.00/611M [00:00<?, ?B/s]"
            ],
            "application/vnd.jupyter.widget-view+json": {
              "version_major": 2,
              "version_minor": 0,
              "model_id": "8ec21ac60f3f4dd7b5a55abe51308929"
            }
          },
          "metadata": {}
        },
        {
          "output_type": "stream",
          "name": "stderr",
          "text": [
            "Some weights of the model checkpoint at Alibaba-NLP/gte-multilingual-base were not used when initializing NewModel: {'classifier.weight', 'classifier.bias'}\n",
            "- This IS expected if you are initializing NewModel from the checkpoint of a model trained on another task or with another architecture (e.g. initializing a BertForSequenceClassification model from a BertForPreTraining model).\n",
            "- This IS NOT expected if you are initializing NewModel from the checkpoint of a model that you expect to be exactly identical (initializing a BertForSequenceClassification model from a BertForSequenceClassification model).\n"
          ]
        },
        {
          "output_type": "stream",
          "name": "stdout",
          "text": [
            "Chunks with embeddings stored successfully in Supabase!\n"
          ]
        }
      ]
    },
    {
      "cell_type": "code",
      "source": [
        "import ast\n",
        "import numpy as np\n",
        "import re\n",
        "from scipy.spatial.distance import cosine\n",
        "\n",
        "def query_supabase(user_query):\n",
        "    \"\"\"Retrieves both text and table chunks based on query.\"\"\"\n",
        "\n",
        "    #### 🔹 Step 1: Retrieve Text Chunks (Vector Search) ####\n",
        "    query_embedding = np.array(get_embedding(user_query), dtype=np.float32).flatten()\n",
        "    print(f\"Query embedding shape: {query_embedding.shape}\")  # Debugging\n",
        "\n",
        "    response_text = supabase.table(\"documents\").select(\"chunk_id, content, embedding\").execute()\n",
        "    text_results = []\n",
        "\n",
        "    for record in response_text.data:\n",
        "        chunk_embedding = record[\"embedding\"]\n",
        "\n",
        "        # Convert stored string embeddings to list if needed\n",
        "        if isinstance(chunk_embedding, str):\n",
        "            chunk_embedding = ast.literal_eval(chunk_embedding)\n",
        "\n",
        "        chunk_embedding = np.array(chunk_embedding, dtype=np.float32).flatten()\n",
        "        print(f\"Chunk {record['chunk_id']} embedding shape: {chunk_embedding.shape}\")  # Debugging\n",
        "\n",
        "        if chunk_embedding.shape == query_embedding.shape:\n",
        "            similarity = 1 - cosine(query_embedding, chunk_embedding)\n",
        "            text_results.append((record[\"chunk_id\"], \"text\", record[\"content\"], similarity))\n",
        "        else:\n",
        "            print(f\"⚠️ Skipping chunk {record['chunk_id']} due to shape mismatch.\")\n",
        "\n",
        "    #### 🔹 Step 2: Retrieve Table Chunks (Improved Keyword Search) ####\n",
        "    response_tables = supabase.table(\"tables\").select(\"chunk_id, table_data\").execute()\n",
        "    table_results = []\n",
        "\n",
        "    query_words = set(re.findall(r'\\w+', user_query.lower()))  # Extract words from query\n",
        "\n",
        "    for record in response_tables.data:\n",
        "        table_data = record[\"table_data\"].lower()\n",
        "        table_words = set(re.findall(r'\\w+', table_data))  # Extract words from table\n",
        "\n",
        "        common_words = query_words.intersection(table_words)  # Count overlapping words\n",
        "        match_score = len(common_words) / max(len(query_words), 1)  # Normalize score\n",
        "\n",
        "        if match_score > 0:  # Only include tables with at least one match\n",
        "            table_results.append((record[\"chunk_id\"], \"table\", table_data, match_score))\n",
        "\n",
        "    #### 🔹 Step 3: Merge & Sort Results ####\n",
        "    all_results = text_results + table_results\n",
        "    all_results.sort(key=lambda x: x[3], reverse=True)  # Sort by relevance\n",
        "\n",
        "    return all_results[:5]  # Return top 5 results\n"
      ],
      "metadata": {
        "id": "C0B_ZvMilPxd"
      },
      "execution_count": null,
      "outputs": []
    },
    {
      "cell_type": "code",
      "source": [
        "# Example usage\n",
        "user_query = \"Background of reports\"\n",
        "retrieved_chunks = query_supabase(user_query)\n",
        "\n",
        "# Display results\n",
        "for chunk in retrieved_chunks:\n",
        "    print(f\"Chunk ID: {chunk[0]}\\nType: {chunk[1]}\\nContent: {chunk[2][:300]}...\\nRelevance: {chunk[3]:.4f}\\n\")"
      ],
      "metadata": {
        "colab": {
          "base_uri": "https://localhost:8080/"
        },
        "id": "dpCgVazpl83h",
        "outputId": "c1ac848b-3ef3-4517-b08a-44bb6e1af928"
      },
      "execution_count": null,
      "outputs": [
        {
          "output_type": "stream",
          "name": "stdout",
          "text": [
            "Query embedding shape: (768,)\n",
            "Chunk b5ea80d5-dc09-4096-9603-833ab73a3504 embedding shape: (768,)\n",
            "Chunk d73ba009-0f60-47de-a372-8fc11c669432 embedding shape: (768,)\n",
            "Chunk 56322f14-18e5-41c8-9a94-69cc2dbc258b embedding shape: (768,)\n",
            "Chunk 72e54398-d8bb-4ced-87c3-db5ba6e4e1ee embedding shape: (768,)\n",
            "Chunk aca32bb6-707e-44ba-a6cc-3d3f80b847fc embedding shape: (768,)\n",
            "Chunk d8a92179-46f3-44f4-a51b-26243f89c2b2 embedding shape: (768,)\n",
            "Chunk 5531a33f-a880-42db-b934-a66d255cfcc8 embedding shape: (768,)\n",
            "Chunk 4711385f-c69a-4ebf-ba9b-f1873ff82f60 embedding shape: (768,)\n",
            "Chunk 1256b5a0-4ef8-458b-affe-b383a37b841f embedding shape: (768,)\n",
            "Chunk 71c30bd2-e19f-4ae7-8ac7-e5e6ed238067 embedding shape: (768,)\n",
            "Chunk 3c7266c0-b157-4107-9f05-a97d3d2eef84 embedding shape: (768,)\n",
            "Chunk 19be3d97-ba94-4fc1-ad18-defb36c4e320 embedding shape: (768,)\n",
            "Chunk 342f37ff-29b3-433f-89cc-a8ee114dfaf0 embedding shape: (768,)\n",
            "Chunk 846094a2-0c29-4ab0-8963-20feb220b1e2 embedding shape: (768,)\n",
            "Chunk ID: 71c30bd2-e19f-4ae7-8ac7-e5e6ed238067\n",
            "Type: text\n",
            "Content: ## Giving and receiving feedback  \n",
            "It was  important  to  choose  the  timing  of  feedback.  For example, when a registrar was post-call, this was not a good time for feedback. Feedback should not be given in front of the  patient.  However,  the  possibility  of  patients  and  other members of th...\n",
            "Relevance: 0.7557\n",
            "\n",
            "Chunk ID: d73ba009-0f60-47de-a372-8fc11c669432\n",
            "Type: text\n",
            "Content: ## Family medicine training in Africa: Views of clinical trainers and trainees  \n",
            "![Image](/content/drive/MyDrive/document_rag/md/17_artifacts/image_000003_4623b4124fe5eb97219b501a4673b832f019b8eb43298a00779ffbd8a836c0e4.png)  \n",
            "*Image Description:* The image is a logo for \"CrossMark,\" which likely re...\n",
            "Relevance: 0.7473\n",
            "\n",
            "Chunk ID: 1256b5a0-4ef8-458b-affe-b383a37b841f\n",
            "Type: text\n",
            "Content: ## Interactions between registrar and supervisor  \n",
            "We  wanted  to  understand  exactly how  registrars and supervisors interacted in the workplace. Many programmes reported  weekly  contact  sessions  that  included  academic activities, for example  a  journal  club. In some  places, educational  m...\n",
            "Relevance: 0.7442\n",
            "\n",
            "Chunk ID: 846094a2-0c29-4ab0-8963-20feb220b1e2\n",
            "Type: text\n",
            "Content: ## Competing interests  \n",
            "The authors declare that they have no financial or personal relationships that may have inappropriately influenced them in writing this article.\n",
            "## Authors' contributions  \n",
            "Both authors conceptualised the manuscript, contributed to all the drafts and finalised the report tog...\n",
            "Relevance: 0.7432\n",
            "\n",
            "Chunk ID: 56322f14-18e5-41c8-9a94-69cc2dbc258b\n",
            "Type: text\n",
            "Content: ## Corresponding author:  \n",
            "Louis Jenkins, louis.jenkins@westerncape. gov.za\n",
            "## Dates:  \n",
            "Received: 28 Sept. 2017  \n",
            "Accepted: 09 Nov. 2017  \n",
            "Published: 12 Apr. 2018  \n",
            "How to cite this article: Jenkins LS, Von Pressentin K. Family medicine training in Africa: Views of clinical trainers and trainees. Af...\n",
            "Relevance: 0.7427\n",
            "\n"
          ]
        }
      ]
    },
    {
      "cell_type": "code",
      "source": [
        "# Example usage\n",
        "user_query = \"Number of participants in Ireland\"\n",
        "retrieved_chunks = query_supabase(user_query)\n",
        "\n",
        "# Display results\n",
        "for chunk in retrieved_chunks:\n",
        "    print(f\"Chunk ID: {chunk[0]}\\nType: {chunk[1]}\\nContent: {chunk[2][:300]}...\\nRelevance: {chunk[3]:.4f}\\n\")"
      ],
      "metadata": {
        "colab": {
          "base_uri": "https://localhost:8080/"
        },
        "id": "wExk7640z3Q6",
        "outputId": "1913efbc-0931-49d4-930e-efbcad8b75ea"
      },
      "execution_count": null,
      "outputs": [
        {
          "output_type": "stream",
          "name": "stdout",
          "text": [
            "Query embedding shape: (768,)\n",
            "Chunk b5ea80d5-dc09-4096-9603-833ab73a3504 embedding shape: (768,)\n",
            "Chunk d73ba009-0f60-47de-a372-8fc11c669432 embedding shape: (768,)\n",
            "Chunk 56322f14-18e5-41c8-9a94-69cc2dbc258b embedding shape: (768,)\n",
            "Chunk 72e54398-d8bb-4ced-87c3-db5ba6e4e1ee embedding shape: (768,)\n",
            "Chunk aca32bb6-707e-44ba-a6cc-3d3f80b847fc embedding shape: (768,)\n",
            "Chunk d8a92179-46f3-44f4-a51b-26243f89c2b2 embedding shape: (768,)\n",
            "Chunk 5531a33f-a880-42db-b934-a66d255cfcc8 embedding shape: (768,)\n",
            "Chunk 4711385f-c69a-4ebf-ba9b-f1873ff82f60 embedding shape: (768,)\n",
            "Chunk 1256b5a0-4ef8-458b-affe-b383a37b841f embedding shape: (768,)\n",
            "Chunk 71c30bd2-e19f-4ae7-8ac7-e5e6ed238067 embedding shape: (768,)\n",
            "Chunk 3c7266c0-b157-4107-9f05-a97d3d2eef84 embedding shape: (768,)\n",
            "Chunk 19be3d97-ba94-4fc1-ad18-defb36c4e320 embedding shape: (768,)\n",
            "Chunk 342f37ff-29b3-433f-89cc-a8ee114dfaf0 embedding shape: (768,)\n",
            "Chunk 846094a2-0c29-4ab0-8963-20feb220b1e2 embedding shape: (768,)\n",
            "Chunk ID: f2061f00-3b95-46e5-907f-05b74dd09987\n",
            "Type: table\n",
            "Content: {\"headers\": [\"country\", \"number of participants\"], \"rows\": [[\"botswana\", \"2\"], [\"ethiopia\", \"1\"], [\"ireland\", \"1\"], [\"kenya\", \"1\"], [\"lesotho\", \"4\"], [\"malawi\", \"3\"], [\"nigeria\", \"2\"], [\"south africa\", \"12\"], [\"sweden\", \"1\"], [\"uganda\", \"1\"], [\"united kingdom\", \"2\"], [\"united states (involved with l...\n",
            "Relevance: 0.8000\n",
            "\n",
            "Chunk ID: aca32bb6-707e-44ba-a6cc-3d3f80b847fc\n",
            "Type: text\n",
            "Content: ## Participants and process  \n",
            "Thirty-five people  participated  in  a  2-h  workshop  and included trainers and trainees from nine African countries, the United Kingdom, United States and Sweden (see Table 1). South  Africa  was  represented  by  the  universities  of  Cape Town,  Limpopo,  Pretoria...\n",
            "Relevance: 0.7929\n",
            "\n",
            "Chunk ID: 56322f14-18e5-41c8-9a94-69cc2dbc258b\n",
            "Type: text\n",
            "Content: ## Corresponding author:  \n",
            "Louis Jenkins, louis.jenkins@westerncape. gov.za\n",
            "## Dates:  \n",
            "Received: 28 Sept. 2017  \n",
            "Accepted: 09 Nov. 2017  \n",
            "Published: 12 Apr. 2018  \n",
            "How to cite this article: Jenkins LS, Von Pressentin K. Family medicine training in Africa: Views of clinical trainers and trainees. Af...\n",
            "Relevance: 0.7819\n",
            "\n",
            "Chunk ID: 71c30bd2-e19f-4ae7-8ac7-e5e6ed238067\n",
            "Type: text\n",
            "Content: ## Giving and receiving feedback  \n",
            "It was  important  to  choose  the  timing  of  feedback.  For example, when a registrar was post-call, this was not a good time for feedback. Feedback should not be given in front of the  patient.  However,  the  possibility  of  patients  and  other members of th...\n",
            "Relevance: 0.7804\n",
            "\n",
            "Chunk ID: d73ba009-0f60-47de-a372-8fc11c669432\n",
            "Type: text\n",
            "Content: ## Family medicine training in Africa: Views of clinical trainers and trainees  \n",
            "![Image](/content/drive/MyDrive/document_rag/md/17_artifacts/image_000003_4623b4124fe5eb97219b501a4673b832f019b8eb43298a00779ffbd8a836c0e4.png)  \n",
            "*Image Description:* The image is a logo for \"CrossMark,\" which likely re...\n",
            "Relevance: 0.7803\n",
            "\n"
          ]
        }
      ]
    },
    {
      "cell_type": "code",
      "source": [],
      "metadata": {
        "id": "xLaivkdUtg3u"
      },
      "execution_count": null,
      "outputs": []
    },
    {
      "cell_type": "code",
      "source": [],
      "metadata": {
        "id": "YwR5c9-Ztg6b"
      },
      "execution_count": null,
      "outputs": []
    },
    {
      "cell_type": "code",
      "source": [],
      "metadata": {
        "id": "OHBpIwio5DXf"
      },
      "execution_count": null,
      "outputs": []
    },
    {
      "cell_type": "code",
      "source": [],
      "metadata": {
        "id": "GLCQvRast1fR"
      },
      "execution_count": null,
      "outputs": []
    },
    {
      "cell_type": "markdown",
      "source": [
        "# Chat with LLM"
      ],
      "metadata": {
        "id": "veQRtEYAuzU5"
      }
    },
    {
      "cell_type": "code",
      "source": [
        "!pip install groq"
      ],
      "metadata": {
        "collapsed": true,
        "id": "u2_nRjKNx6x1"
      },
      "execution_count": null,
      "outputs": []
    },
    {
      "cell_type": "code",
      "source": [
        "import ast\n",
        "import numpy as np\n",
        "import re\n",
        "import requests\n",
        "from scipy.spatial.distance import cosine\n",
        "\n",
        "# Your Groq API key\n",
        "GROQ_API_KEY = \"\"\n",
        "\n",
        "def query_supabase(user_query):\n",
        "    \"\"\"Retrieves both text and table chunks based on query.\"\"\"\n",
        "\n",
        "    #### 🔹 Step 1: Retrieve Text Chunks (Vector Search) ####\n",
        "    query_embedding = np.array(get_embedding(user_query), dtype=np.float32).flatten()\n",
        "    response_text = supabase.table(\"documents\").select(\"chunk_id, content, embedding\").execute()\n",
        "    text_results = []\n",
        "\n",
        "    for record in response_text.data:\n",
        "        chunk_embedding = record[\"embedding\"]\n",
        "\n",
        "        # Convert stored string embeddings to list if needed\n",
        "        if isinstance(chunk_embedding, str):\n",
        "            chunk_embedding = ast.literal_eval(chunk_embedding)\n",
        "\n",
        "        chunk_embedding = np.array(chunk_embedding, dtype=np.float32).flatten()\n",
        "\n",
        "        if chunk_embedding.shape == query_embedding.shape:\n",
        "            similarity = 1 - cosine(query_embedding, chunk_embedding)\n",
        "            text_results.append((record[\"chunk_id\"], \"text\", record[\"content\"], similarity))\n",
        "\n",
        "    #### 🔹 Step 2: Retrieve Table Chunks (Improved Keyword Search) ####\n",
        "    response_tables = supabase.table(\"tables\").select(\"chunk_id, table_data\").execute()\n",
        "    table_results = []\n",
        "\n",
        "    query_words = set(re.findall(r'\\w+', user_query.lower()))  # Extract words from query\n",
        "\n",
        "    for record in response_tables.data:\n",
        "        table_data = record[\"table_data\"].lower()\n",
        "        table_words = set(re.findall(r'\\w+', table_data))  # Extract words from table\n",
        "\n",
        "        common_words = query_words.intersection(table_words)  # Count overlapping words\n",
        "        match_score = len(common_words) / max(len(query_words), 1)  # Normalize score\n",
        "\n",
        "        if match_score > 0:  # Only include tables with at least one match\n",
        "            table_results.append((record[\"chunk_id\"], \"table\", table_data, match_score))\n",
        "\n",
        "    #### 🔹 Step 3: Merge & Sort Results ####\n",
        "    all_results = text_results + table_results\n",
        "    all_results.sort(key=lambda x: x[3], reverse=True)  # Sort by relevance\n",
        "\n",
        "    return all_results[:5]  # Return top 5 results\n",
        "\n",
        "\n",
        "def call_groq_llm(user_query, retrieved_chunks):\n",
        "    \"\"\"Send the query along with retrieved context to Groq API and return the response.\"\"\"\n",
        "\n",
        "    # Print retrieved chunks for debugging\n",
        "    print(\"\\n🔹 Retrieved Chunks:\")\n",
        "    for i, chunk in enumerate(retrieved_chunks, 1):\n",
        "        print(f\"Chunk {i} (ID: {chunk[0]}, Type: {chunk[1]}):\\n{chunk[2][:500]}...\\nRelevance: {chunk[3]:.4f}\\n\")\n",
        "\n",
        "    # Prepare context for LLM\n",
        "    context_text = \"\\n\\n\".join([f\"Chunk {i+1}: {chunk[2]}\" for i, chunk in enumerate(retrieved_chunks)])\n",
        "\n",
        "    prompt = f\"\"\"You are an intelligent assistant. Use the following retrieved information to answer the user's query.\n",
        "\n",
        "    Context:\n",
        "    {context_text}\n",
        "\n",
        "    User's Question: {user_query}\n",
        "\n",
        "    Provide a clear and concise response.\n",
        "    \"\"\"\n",
        "\n",
        "    url = \"https://api.groq.com/openai/v1/chat/completions\"\n",
        "    headers = {\n",
        "        \"Authorization\": f\"Bearer {GROQ_API_KEY}\",\n",
        "        \"Content-Type\": \"application/json\"\n",
        "    }\n",
        "    data = {\n",
        "        \"model\": \"qwen-qwq-32b\",  # Adjust this based on your Groq model selection\n",
        "        \"messages\": [\n",
        "            {\"role\": \"system\", \"content\": \"You are a helpful assistant.\"},\n",
        "            {\"role\": \"user\", \"content\": prompt}\n",
        "        ],\n",
        "        \"temperature\": 0.7\n",
        "    }\n",
        "\n",
        "    response = requests.post(url, json=data, headers=headers)\n",
        "\n",
        "    if response.status_code == 200:\n",
        "        answer = response.json()[\"choices\"][0][\"message\"][\"content\"]\n",
        "        print(\"\\n🔹 Chatbot Response:\\n\", answer)\n",
        "        return answer\n",
        "    else:\n",
        "        print(\"\\n⚠️ Error:\", response.text)\n",
        "        return None\n",
        "\n"
      ],
      "metadata": {
        "id": "SfLuff0x0asQ"
      },
      "execution_count": null,
      "outputs": []
    },
    {
      "cell_type": "code",
      "source": [
        "# Example usage\n",
        "user_query = \"Number of participants in Ireland\"\n",
        "retrieved_chunks = query_supabase(user_query)\n",
        "\n",
        "if retrieved_chunks:\n",
        "    call_groq_llm(user_query, retrieved_chunks)\n",
        "else:\n",
        "    print(\"No relevant information found.\")\n"
      ],
      "metadata": {
        "colab": {
          "base_uri": "https://localhost:8080/"
        },
        "id": "ufbjnmX10by5",
        "outputId": "333367e7-b6e9-4730-ad0d-94275044572a"
      },
      "execution_count": null,
      "outputs": [
        {
          "output_type": "stream",
          "name": "stdout",
          "text": [
            "\n",
            "🔹 Retrieved Chunks:\n",
            "Chunk 1 (ID: f2061f00-3b95-46e5-907f-05b74dd09987, Type: table):\n",
            "{\"headers\": [\"country\", \"number of participants\"], \"rows\": [[\"botswana\", \"2\"], [\"ethiopia\", \"1\"], [\"ireland\", \"1\"], [\"kenya\", \"1\"], [\"lesotho\", \"4\"], [\"malawi\", \"3\"], [\"nigeria\", \"2\"], [\"south africa\", \"12\"], [\"sweden\", \"1\"], [\"uganda\", \"1\"], [\"united kingdom\", \"2\"], [\"united states (involved with lesotho  programme)\", \"2\"], [\"zimbabwe\", \"3\"], [\"total\", \"35\"]]}...\n",
            "Relevance: 0.8000\n",
            "\n",
            "Chunk 2 (ID: aca32bb6-707e-44ba-a6cc-3d3f80b847fc, Type: text):\n",
            "## Participants and process  \n",
            "Thirty-five people  participated  in  a  2-h  workshop  and included trainers and trainees from nine African countries, the United Kingdom, United States and Sweden (see Table 1). South  Africa  was  represented  by  the  universities  of  Cape Town,  Limpopo,  Pretoria,  Sefako  Makgatho,  Stellenbosch, Walter Sisulu and Witwatersrand.  \n",
            "We started with an introduction and then divided into buzz pairs (pairs were allowed to form spontaneously, regardless of the tra...\n",
            "Relevance: 0.7929\n",
            "\n",
            "Chunk 3 (ID: 56322f14-18e5-41c8-9a94-69cc2dbc258b, Type: text):\n",
            "## Corresponding author:  \n",
            "Louis Jenkins, louis.jenkins@westerncape. gov.za\n",
            "## Dates:  \n",
            "Received: 28 Sept. 2017  \n",
            "Accepted: 09 Nov. 2017  \n",
            "Published: 12 Apr. 2018  \n",
            "How to cite this article: Jenkins LS, Von Pressentin K. Family medicine training in Africa: Views of clinical trainers and trainees. Afr J Prm Health Care Fam Med. 2018;10(1), a1638. https:// doi.org/10.4102/phcfm. v10i1.1638\n",
            "## Copyright:  \n",
            "© 2018. The Authors. Licensee: AOSIS. This work is licensed under the Creative Commons Attrib...\n",
            "Relevance: 0.7819\n",
            "\n",
            "Chunk 4 (ID: 71c30bd2-e19f-4ae7-8ac7-e5e6ed238067, Type: text):\n",
            "## Giving and receiving feedback  \n",
            "It was  important  to  choose  the  timing  of  feedback.  For example, when a registrar was post-call, this was not a good time for feedback. Feedback should not be given in front of the  patient.  However,  the  possibility  of  patients  and  other members of the health care team giving feedback in a multisource format was seen as acceptable.  \n",
            "When giving feedback, it is important to allow the registrar to reflect first, and allow for time to reflect, with ...\n",
            "Relevance: 0.7804\n",
            "\n",
            "Chunk 5 (ID: d73ba009-0f60-47de-a372-8fc11c669432, Type: text):\n",
            "## Family medicine training in Africa: Views of clinical trainers and trainees  \n",
            "![Image](/content/drive/MyDrive/document_rag/md/17_artifacts/image_000003_4623b4124fe5eb97219b501a4673b832f019b8eb43298a00779ffbd8a836c0e4.png)  \n",
            "*Image Description:* The image is a logo for \"CrossMark,\" which likely refers to an online platform used for cross-training in family medicine. Text next to the logo reads, \"Click for updates,\" suggesting it may be dynamic or constantly updated. The background features a g...\n",
            "Relevance: 0.7803\n",
            "\n",
            "\n",
            "🔹 Chatbot Response:\n",
            " \n",
            "<think>\n",
            "Okay, let's see. The user is asking for the number of participants from Ireland. I need to check the information provided in the chunks.\n",
            "\n",
            "Looking at Chunk 1 first. It has a table with countries and their participant counts. Scanning through the list: Botswana (2), Ethiopia (1), Ireland... yes, here it is. Ireland has 1 participant. Then the total is 35. So that's straightforward.\n",
            "\n",
            "I should make sure there's no other mention of Ireland in other chunks. Checking Chunk 2, it mentions the countries again but just lists Ireland as one of them without numbers. The other chunks don't have participant counts. So the answer is definitely 1. Just need to present that clearly.\n",
            "</think>\n",
            "\n",
            "The number of participants from **Ireland** was **1**, as indicated in the provided data. This is part of a total of 35 participants across all countries listed.\n"
          ]
        }
      ]
    },
    {
      "cell_type": "code",
      "source": [
        "# Example usage\n",
        "user_query = \"Number of participants in Lesotho\"\n",
        "retrieved_chunks = query_supabase(user_query)\n",
        "\n",
        "if retrieved_chunks:\n",
        "    call_groq_llm(user_query, retrieved_chunks)\n",
        "else:\n",
        "    print(\"No relevant information found.\")\n"
      ],
      "metadata": {
        "colab": {
          "base_uri": "https://localhost:8080/"
        },
        "id": "AWwkoWY40m3t",
        "outputId": "9e74cdad-d0e6-4f7d-d4ab-9daa99b0ff28"
      },
      "execution_count": null,
      "outputs": [
        {
          "output_type": "stream",
          "name": "stdout",
          "text": [
            "\n",
            "🔹 Retrieved Chunks:\n",
            "Chunk 1 (ID: aca32bb6-707e-44ba-a6cc-3d3f80b847fc, Type: text):\n",
            "## Participants and process  \n",
            "Thirty-five people  participated  in  a  2-h  workshop  and included trainers and trainees from nine African countries, the United Kingdom, United States and Sweden (see Table 1). South  Africa  was  represented  by  the  universities  of  Cape Town,  Limpopo,  Pretoria,  Sefako  Makgatho,  Stellenbosch, Walter Sisulu and Witwatersrand.  \n",
            "We started with an introduction and then divided into buzz pairs (pairs were allowed to form spontaneously, regardless of the tra...\n",
            "Relevance: 0.8174\n",
            "\n",
            "Chunk 2 (ID: 19be3d97-ba94-4fc1-ad18-defb36c4e320, Type: text):\n",
            "## Reflection on workshop  \n",
            "The group appreciated the richness of the discussion and the value  of  having  a  variety  of  countries  represented  in  the workshop. The group members expressed feeling encouraged and felt motivated to use 'small moments, little bits, part of the mini-CEX' during learning interactions in the workplace (teachable  moments).  This  will  allow  the  supervisors  and registrars to be 'more real' in the workplace, as opposed to striving for the hard-to-reach  perfect...\n",
            "Relevance: 0.8111\n",
            "\n",
            "Chunk 3 (ID: 72e54398-d8bb-4ced-87c3-db5ba6e4e1ee, Type: text):\n",
            "7  \n",
            "The World Organisation of Family Doctors and the South African Academy of Family Physicians (SAAFP)  have  established  standards  for  the  postgraduate  training  of  family  physicians. 8,9  \n",
            "However,  family  medicine  is  a  relatively  new  specialty  in many African countries, which adds to the challenges around training and supervision in the context of large rural areas, massive health needs and minimal resources. 10  \n",
            "The  aim  of  the  workshop  was  to  understand  how  family me...\n",
            "Relevance: 0.8035\n",
            "\n",
            "Chunk 4 (ID: f2061f00-3b95-46e5-907f-05b74dd09987, Type: table):\n",
            "{\"headers\": [\"country\", \"number of participants\"], \"rows\": [[\"botswana\", \"2\"], [\"ethiopia\", \"1\"], [\"ireland\", \"1\"], [\"kenya\", \"1\"], [\"lesotho\", \"4\"], [\"malawi\", \"3\"], [\"nigeria\", \"2\"], [\"south africa\", \"12\"], [\"sweden\", \"1\"], [\"uganda\", \"1\"], [\"united kingdom\", \"2\"], [\"united states (involved with lesotho  programme)\", \"2\"], [\"zimbabwe\", \"3\"], [\"total\", \"35\"]]}...\n",
            "Relevance: 0.8000\n",
            "\n",
            "Chunk 5 (ID: 56322f14-18e5-41c8-9a94-69cc2dbc258b, Type: text):\n",
            "## Corresponding author:  \n",
            "Louis Jenkins, louis.jenkins@westerncape. gov.za\n",
            "## Dates:  \n",
            "Received: 28 Sept. 2017  \n",
            "Accepted: 09 Nov. 2017  \n",
            "Published: 12 Apr. 2018  \n",
            "How to cite this article: Jenkins LS, Von Pressentin K. Family medicine training in Africa: Views of clinical trainers and trainees. Afr J Prm Health Care Fam Med. 2018;10(1), a1638. https:// doi.org/10.4102/phcfm. v10i1.1638\n",
            "## Copyright:  \n",
            "© 2018. The Authors. Licensee: AOSIS. This work is licensed under the Creative Commons Attrib...\n",
            "Relevance: 0.7975\n",
            "\n",
            "\n",
            "🔹 Chatbot Response:\n",
            " \n",
            "<think>\n",
            "Okay, so the user is asking for the number of participants from Lesotho in the workshop. Let me check the provided chunks to find that information.\n",
            "\n",
            "Looking at Chunk 4, which is a table with countries and their participant counts. The headers are \"country\" and \"number of participants\". Scanning through the rows, I see \"Lesotho\" listed with \"4\" participants. \n",
            "\n",
            "Wait, the user's question is straightforward, just asking for the number. The answer should be 4. Let me cross-verify with other chunks. \n",
            "\n",
            "In Chunk 1, it mentions participants from Lesotho as part of the nine African countries but doesn't specify the exact number. The table in Chunk 4 is the exact data point. So the answer is 4.\n",
            "</think>\n",
            "\n",
            "The number of participants from Lesotho in the workshop was **4**. This is listed in the provided participant data (Chunk 4), which breaks down the number of participants by country.\n"
          ]
        }
      ]
    },
    {
      "cell_type": "code",
      "source": [],
      "metadata": {
        "id": "qBdbZv103Ug4"
      },
      "execution_count": null,
      "outputs": []
    }
  ]
}